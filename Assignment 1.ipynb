{
 "cells": [
  {
   "cell_type": "code",
   "execution_count": 5,
   "metadata": {
    "scrolled": true
   },
   "outputs": [
    {
     "name": "stdout",
     "output_type": "stream",
     "text": [
      "Twinkle, twinkle little star\n",
      "How I wonder what you are!\n",
      "Up above the world so high,\n",
      "Like a diamond in the sky.\n",
      "\n",
      "Twinkle, twinkle little star,\n",
      "How I wonder what you are\n"
     ]
    }
   ],
   "source": [
    "a= \"Twinkle, twinkle little star\" \"\\n\" \"How I wonder what you are!\"\n",
    "b= \"Up above the world so high,\" \"\\n\" \"Like a diamond in the sky.\"\n",
    "print (a +\"\\n\"+ b +\"\\n\"+\"\\n\" + \"Twinkle, twinkle little star,\"+ \"\\n\"+ \"How I wonder what you are\")"
   ]
  },
  {
   "cell_type": "code",
   "execution_count": 6,
   "metadata": {},
   "outputs": [
    {
     "name": "stdout",
     "output_type": "stream",
     "text": [
      "python version\n",
      "3.7.4 (default, Aug  9 2019, 18:34:13) [MSC v.1915 64 bit (AMD64)]\n",
      "version info\n",
      "sys.version_info(major=3, minor=7, micro=4, releaselevel='final', serial=0)\n"
     ]
    }
   ],
   "source": [
    "import sys\n",
    "print (\"python version\")\n",
    "print (sys.version)\n",
    "print (\"version info\")\n",
    "print (sys.version_info)"
   ]
  },
  {
   "cell_type": "code",
   "execution_count": 9,
   "metadata": {},
   "outputs": [
    {
     "name": "stdout",
     "output_type": "stream",
     "text": [
      "now: 2019-11-05 22:37:34.113315\n",
      "dt_string= 0511\t 22:37:34\n"
     ]
    }
   ],
   "source": [
    "from datetime import datetime\n",
    "now= datetime.now()\n",
    "print (\"now:\",now)\n",
    "dt_string= now.strftime(\"%d%m%t %H:%M:%S\")\n",
    "print (\"dt_string=\", dt_string)"
   ]
  },
  {
   "cell_type": "code",
   "execution_count": 15,
   "metadata": {},
   "outputs": [
    {
     "name": "stdout",
     "output_type": "stream",
     "text": [
      "Enter the radius of circle:5\n",
      "The area of the circle with radius 5 is: 78.53981633974483\n"
     ]
    }
   ],
   "source": [
    "from math import pi\n",
    "r= int(input(\"Enter the radius of circle:\"))\n",
    "print (\"The area of the circle with radius\"+\" \"+ str(r)+\" \"+ \"is:\"+\" \" +str(pi*r**2))"
   ]
  },
  {
   "cell_type": "code",
   "execution_count": 20,
   "metadata": {},
   "outputs": [
    {
     "name": "stdout",
     "output_type": "stream",
     "text": [
      "Enter your first name:Usama\n",
      "Enter your Last name:Nawaz\n",
      "Hello Nawaz Usama\n"
     ]
    }
   ],
   "source": [
    "first_name= input(\"Enter your first name:\")\n",
    "Last_name= input(\"Enter your Last name:\")\n",
    "print (\"Hello\"+ \" \"+ Last_name +\" \"+first_name)"
   ]
  },
  {
   "cell_type": "code",
   "execution_count": 22,
   "metadata": {},
   "outputs": [
    {
     "name": "stdout",
     "output_type": "stream",
     "text": [
      "Enter The first number:5\n",
      "Enter the second number:645\n",
      "650\n"
     ]
    }
   ],
   "source": [
    "input1= int (input(\"Enter The first number:\"))\n",
    "input2= int (input(\"Enter the second number:\"))\n",
    "print (input1 + input2)"
   ]
  }
 ],
 "metadata": {
  "kernelspec": {
   "display_name": "Python 3",
   "language": "python",
   "name": "python3"
  },
  "language_info": {
   "codemirror_mode": {
    "name": "ipython",
    "version": 3
   },
   "file_extension": ".py",
   "mimetype": "text/x-python",
   "name": "python",
   "nbconvert_exporter": "python",
   "pygments_lexer": "ipython3",
   "version": "3.7.4"
  }
 },
 "nbformat": 4,
 "nbformat_minor": 2
}
