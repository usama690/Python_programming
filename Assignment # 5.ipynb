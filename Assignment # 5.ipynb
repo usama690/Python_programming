{
 "cells": [
  {
   "cell_type": "code",
   "execution_count": 10,
   "metadata": {},
   "outputs": [
    {
     "name": "stdout",
     "output_type": "stream",
     "text": [
      "Enter the number : 5\n",
      "The Factorial of 5 is 120\n"
     ]
    }
   ],
   "source": [
    "#Write a Python function to calculate the factorial of a number (a non-negative integer). \n",
    "#The function accepts the number as an argument\n",
    "\n",
    "def factorial(n):\n",
    "    if n == 0:\n",
    "        return 1\n",
    "    else:\n",
    "        return n * factorial(n-1)\n",
    "n = int (input(\"Enter the number : \"))\n",
    "result = factorial(5)\n",
    "print(\"The Factorial of\", n ,\"is\",result)"
   ]
  },
  {
   "cell_type": "code",
   "execution_count": 24,
   "metadata": {},
   "outputs": [
    {
     "name": "stdout",
     "output_type": "stream",
     "text": [
      "Please enter here: usama\n",
      "Lower case is :  5\n",
      "Upper case is :  0\n"
     ]
    }
   ],
   "source": [
    "#Write a Python function that accepts a string and \n",
    "#calculate the number of upper case letters and lower case letters.\n",
    "s = input(\"Please enter here: \")\n",
    "def stringtest(s):\n",
    "    \n",
    "    d = {\"LOWER_CASE\" : 0, \"UPPER_CASE\" : 0}\n",
    "    for c in s:\n",
    "        if c.islower():\n",
    "            d[\"LOWER_CASE\"] += 1\n",
    "        elif c.isupper():\n",
    "            d[\"UPPER_CASE\"] += 1\n",
    "            \n",
    "    print (\"Lower case is : \", d[\"LOWER_CASE\"])\n",
    "    print (\"Upper case is : \", d[\"UPPER_CASE\"])\n",
    "stringtest(s)"
   ]
  },
  {
   "cell_type": "code",
   "execution_count": 37,
   "metadata": {},
   "outputs": [
    {
     "name": "stdout",
     "output_type": "stream",
     "text": [
      "78,56,98,36,58,68,"
     ]
    }
   ],
   "source": [
    "#Write a Python function to print the even numbers from a given list. \n",
    "def even():\n",
    "    list1 = [25,78,23,56,98,41,36,58,68,45]\n",
    "    for lis3 in list1:\n",
    "        if lis3 % 2 == 0:\n",
    "            print(lis3,end=\",\")\n",
    "even()"
   ]
  },
  {
   "cell_type": "code",
   "execution_count": 43,
   "metadata": {},
   "outputs": [
    {
     "name": "stdout",
     "output_type": "stream",
     "text": [
      "This is palindrome\n"
     ]
    }
   ],
   "source": [
    "#Write a Python function that checks whether a passed string is palindrome or not. Note: A palindrome is a word, phrase, or sequence \n",
    "#that reads the same backward as forward, e.g., madam \n",
    "def palindrome(n):\n",
    "    rev = n [::-1]\n",
    "    if n == rev :\n",
    "        print(\"This is palindrome\")\n",
    "    else:\n",
    "        print(\"This is not palindrome\")\n",
    "palindrome(\"civic\")"
   ]
  },
  {
   "cell_type": "code",
   "execution_count": 70,
   "metadata": {},
   "outputs": [
    {
     "name": "stdout",
     "output_type": "stream",
     "text": [
      "100 is not a prime number\n",
      "2 times 50 is 100\n"
     ]
    }
   ],
   "source": [
    "#Write a Python function that takes a number as a parameter and \n",
    "#check the number is prime or not\n",
    "\n",
    "def prime(num):\n",
    "    if num > 1:  \n",
    "        for i in range(2,num):  \n",
    "            if (num % i) == 0:  \n",
    "                print(num,\"is not a prime number\")  \n",
    "                print(i,\"times\",num//i,\"is\",num)  \n",
    "                break  \n",
    "            else:  \n",
    "                print(num,\"is a prime number\")  \n",
    "         \n",
    "    else:  \n",
    "        print(num,\"is not a prime number\") \n",
    "            \n",
    "prime(100)"
   ]
  },
  {
   "cell_type": "code",
   "execution_count": 76,
   "metadata": {},
   "outputs": [
    {
     "name": "stdout",
     "output_type": "stream",
     "text": [
      "The shopping list of user is :  jacket = 2 ,blanket = 1 ,Shoes = 3\n",
      "pant = 2\n",
      "shirt = 6\n",
      "tie = 2\n"
     ]
    }
   ],
   "source": [
    "#Write a function which accepts the multiple arguments of user shopping list and \n",
    "#print all the items which user bought from market. \n",
    "\n",
    "def market(jacket,blanket,shoes,**para):\n",
    "    print(\"The shopping list of user is : \",jacket,blanket,shoes)\n",
    "    for key,value in para.items():\n",
    "        print(key,value)\n",
    "market(\"jacket = 2\",\",blanket = 1\",',Shoes = 3',pant=\"= 2\",shirt=\"= 6\",tie=\"= 2\")\n"
   ]
  }
 ],
 "metadata": {
  "kernelspec": {
   "display_name": "Python 3",
   "language": "python",
   "name": "python3"
  },
  "language_info": {
   "codemirror_mode": {
    "name": "ipython",
    "version": 3
   },
   "file_extension": ".py",
   "mimetype": "text/x-python",
   "name": "python",
   "nbconvert_exporter": "python",
   "pygments_lexer": "ipython3",
   "version": "3.7.4"
  }
 },
 "nbformat": 4,
 "nbformat_minor": 2
}
