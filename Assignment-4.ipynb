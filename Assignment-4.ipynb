{
 "cells": [
  {
   "cell_type": "code",
   "execution_count": 1,
   "metadata": {},
   "outputs": [
    {
     "name": "stdout",
     "output_type": "stream",
     "text": [
      "{'f_name': 'Moazzam', 'l_name': 'Ali', 'age': '21 years', 'city': 'karachi'} \n",
      "\n",
      "\n",
      "{'f_name': 'Moazzam', 'l_name': 'Ali', 'age': '21 years', 'city': 'karachi', 'qaulification': 'High Acadamic Level'} \n",
      "\n",
      "\n",
      "{'f_name': 'Moazzam', 'l_name': 'Ali', 'age': '21 years', 'city': 'karachi'}\n"
     ]
    }
   ],
   "source": [
    "# Adding and Deleting key_value pair in dictionary \n",
    "\n",
    "person = {\n",
    "    'f_name' : 'Moazzam',\n",
    "    'l_name' : 'Ali',\n",
    "    'age'    : '21 years',\n",
    "    'city'   : 'karachi',\n",
    "}\n",
    "print(person , '\\n\\n')\n",
    "person['qaulification'] = 'High Acadamic Level'\n",
    "print(person, '\\n\\n')\n",
    "del person['qaulification']\n",
    "print(person)"
   ]
  },
  {
   "cell_type": "code",
   "execution_count": 2,
   "metadata": {},
   "outputs": [
    {
     "name": "stdout",
     "output_type": "stream",
     "text": [
      "makkah:  {'country': 'saudia Arabia', 'population': '1.535 million', 'fact': 'Muhammad (p.b.u.h) , the founder of Islam, was born in Mecca,'} \n",
      "\n",
      "manchester:  {'country': 'England', 'population': '510,746', 'fact': 'Truly the home of football.'} \n",
      "\n",
      "shanghai:  {'country': 'china', 'population': '24.24 million', 'fact': \"Shanghai is the world's largest city.\"} \n",
      "\n"
     ]
    }
   ],
   "source": [
    "# Dictionaries in Dictionary\n",
    "\n",
    "cities = {\n",
    "    'makkah: ' : {\n",
    "        'country': 'saudia Arabia',\n",
    "        'population'  : '1.535 million',\n",
    "        'fact' : 'Muhammad (p.b.u.h) , the founder of Islam, was born in Mecca,'\n",
    "    },\n",
    "    'manchester: ' : {\n",
    "        'country': 'England',\n",
    "        'population'  : '510,746',\n",
    "        'fact' : 'Truly the home of football.'\n",
    "    },\n",
    "    'shanghai: ' : {\n",
    "        'country': 'china',\n",
    "        'population'  : '24.24 million',\n",
    "        'fact' : 'Shanghai is the world\\'s largest city.'\n",
    "    },\n",
    "    \n",
    "}\n",
    "for i , j in cities.items():\n",
    "    print(i , j,  '\\n')"
   ]
  },
  {
   "cell_type": "code",
   "execution_count": 3,
   "metadata": {},
   "outputs": [
    {
     "name": "stdout",
     "output_type": "stream",
     "text": [
      "Enter your age: 6\n",
      "\n",
      "The ticket is $10\n"
     ]
    }
   ],
   "source": [
    "# Ask for age and print their Ticket price\n",
    "\n",
    "age = int(input('Enter your age: '))\n",
    "if age <=3 :\n",
    "    print('Free of cost')\n",
    "elif age > 3 and age <= 12 :\n",
    "        print('\\nThe ticket is $10')\n",
    "elif age > 12 :\n",
    "        print('\\nthe ticket is $15')\n"
   ]
  },
  {
   "cell_type": "code",
   "execution_count": 2,
   "metadata": {},
   "outputs": [
    {
     "name": "stdout",
     "output_type": "stream",
     "text": [
      "One of my favorite book is The secret\n",
      "One of my favorite book is The Smarter way to learn python\n"
     ]
    }
   ],
   "source": [
    "def favorite_book(title):\n",
    "    print('One of my favorite book is '+title) \n",
    "\n",
    "favorite_book(\"The secret\")\n",
    "favorite_book('The Smarter way to learn python')"
   ]
  },
  {
   "cell_type": "code",
   "execution_count": 17,
   "metadata": {},
   "outputs": [
    {
     "name": "stdout",
     "output_type": "stream",
     "text": [
      "Make a guess: 15\n",
      "too low\n",
      "Make a guess: 25\n",
      "too low\n",
      "Make a guess: 37\n",
      "you got it!\n"
     ]
    }
   ],
   "source": [
    "## import random\n",
    "num = random.randrange(1, 50)\n",
    "tries = 0\n",
    "guess = 0\n",
    "guess_limit = 3 \n",
    "while guess != num :\n",
    "    if tries < guess_limit:\n",
    "        guess = int(input('Make a guess: '))\n",
    "        tries = tries + 1\n",
    "        if guess >  num:\n",
    "            print('Too High')\n",
    "        elif guess < num:\n",
    "            print('too low')\n",
    "        elif guess == num:\n",
    "            print('you got it!')\n",
    "            tries = tries + 1\n",
    "    else:\n",
    "        print('No of tries: ',str(tries) + \"/3\" + \"\\n\\t you lost!\")\n",
    "        break\n"
   ]
  },
  {
   "cell_type": "code",
   "execution_count": null,
   "metadata": {},
   "outputs": [],
   "source": []
  }
 ],
 "metadata": {
  "kernelspec": {
   "display_name": "Python 3",
   "language": "python",
   "name": "python3"
  },
  "language_info": {
   "codemirror_mode": {
    "name": "ipython",
    "version": 3
   },
   "file_extension": ".py",
   "mimetype": "text/x-python",
   "name": "python",
   "nbconvert_exporter": "python",
   "pygments_lexer": "ipython3",
   "version": "3.7.4"
  }
 },
 "nbformat": 4,
 "nbformat_minor": 2
}
