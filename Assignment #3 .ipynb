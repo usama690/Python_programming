{
 "cells": [
  {
   "cell_type": "code",
   "execution_count": 3,
   "metadata": {},
   "outputs": [
    {
     "name": "stdout",
     "output_type": "stream",
     "text": [
      "Select the operation:\n",
      "1.Addition +\n",
      "2.Substraction -\n",
      "3.Multiplication *\n",
      "4.Division /\n",
      "5.Power **\n",
      "Enter the operation:5\n",
      "Enter first number:2\n",
      "Enter second number:5\n",
      "Your answer is:\n",
      "2 ** 5 = 32\n"
     ]
    }
   ],
   "source": [
    "#1. Make a calculator using Python with addition , subtraction , multiplication ,\n",
    "#division and power.\n",
    "\n",
    "def addition(x,y):\n",
    "    return x + y\n",
    "def substraction (x,y):\n",
    "    return x - y\n",
    "def multiplication(x,y):\n",
    "    return x * y\n",
    "def division(x,y):\n",
    "    return x / y\n",
    "def power(x,y):\n",
    "    return x ** y\n",
    "print(\"Select the operation:\")\n",
    "print(\"1.Addition\",\"+\")\n",
    "print(\"2.Substraction\",\"-\")\n",
    "print(\"3.Multiplication\",\"*\")\n",
    "print(\"4.Division\",\"/\")\n",
    "print(\"5.Power\",\"**\")\n",
    "select= input(\"Enter the operation:\")\n",
    "value1= int(input(\"Enter first number:\"))\n",
    "value2= int (input(\"Enter second number:\"))\n",
    "if select== \"1\":\n",
    "      print(\"Your answer is:\")\n",
    "      print(value1,\"+\",value2,\"=\",addition(value1,value2))\n",
    "elif select== \"2\":\n",
    "      print(\"Your answer is:\")\n",
    "      print(value1,\"-\",value2,\"=\",substraction(value1,value2))\n",
    "elif select== \"3\":\n",
    "      print(\"Your answer is:\")\n",
    "      print(value1,\"*\",value2,\"=\",multiplication(value1,value2))\n",
    "elif select== \"4\":\n",
    "      print(\"Your answer is:\")\n",
    "      print(value1,\"\",value2,\"=\",division(value1,value2))\n",
    "elif select== \"5\":\n",
    "      print(\"Your answer is:\")\n",
    "      print(value1,\"**\",value2,\"=\",power(value1,value2))\n",
    "else:\n",
    "      print(\"Invalid input\")"
   ]
  },
  {
   "cell_type": "code",
   "execution_count": 5,
   "metadata": {},
   "outputs": [
    {
     "name": "stdout",
     "output_type": "stream",
     "text": [
      "Checking if numeric value exists in list ( using loop ) : \n",
      "Element Exists\n"
     ]
    }
   ],
   "source": [
    "#2. Write a program to check if there is any numeric value in list using for loop\n",
    "test_list = [ 1, 6, 3, 5, 3, 4 ] \n",
    "  \n",
    "print(\"Checking if numeric value exists in list ( using loop ) : \") \n",
    "  \n",
    "for i in test_list: \n",
    "    if(i == 4) : \n",
    "        print (\"Element Exists\") \n",
    "  \n"
   ]
  },
  {
   "cell_type": "code",
   "execution_count": 7,
   "metadata": {},
   "outputs": [
    {
     "name": "stdout",
     "output_type": "stream",
     "text": [
      "The current dictionary is: {'Name': 'Usama', 'Age': 21, 'learning': 'Python3'}\n",
      "Updated dictionary is: {'Name': 'Usama', 'Age': 21, 'learning': 'Python3', 'Status': 'Student', 'Institute': 'Saylani'}\n"
     ]
    }
   ],
   "source": [
    "#3. Write a Python script to add a key to a dictionary\n",
    "dict_keys = {'Name':'Usama', 'Age':21, 'learning': 'Python3'} \n",
    "print(\"The current dictionary is:\",dict_keys)\n",
    "dict_keys[\"Status\"]= \"Student\"\n",
    "dict_keys[\"Institute\"]= \"Saylani\"\n",
    "print(\"Updated dictionary is:\", dict_keys)"
   ]
  },
  {
   "cell_type": "code",
   "execution_count": 11,
   "metadata": {},
   "outputs": [
    {
     "name": "stdout",
     "output_type": "stream",
     "text": [
      "The sum of all numb is: 1000\n"
     ]
    }
   ],
   "source": [
    "#4. Write a Python program to sum all the numeric items in a dictionary\n",
    "def dict_sum(mydict):\n",
    "    sum = 0\n",
    "    for i in mydict:\n",
    "        sum = sum + mydict[i]\n",
    "    return sum\n",
    "dict2 = {'a': 100, 'b':200, 'c':300, 'd':400} \n",
    "print(\"The sum of all numb is:\",dict_sum(dict2))"
   ]
  },
  {
   "cell_type": "code",
   "execution_count": 19,
   "metadata": {},
   "outputs": [
    {
     "name": "stdout",
     "output_type": "stream",
     "text": [
      "contains duplicate\n"
     ]
    }
   ],
   "source": [
    "#5. Write a program to identify duplicate values from list\n",
    "def check_duplicate(listOfElms):\n",
    "    if (len(listOfElms))== len (set(listOfElms)):\n",
    "        return False \n",
    "    else:\n",
    "        return True\n",
    "listOfElms = ['Hello', 'Ok', 'is', 'Ok', 'test', 'this', 'is', 'a', 'test']    \n",
    "result = check_duplicate(listOfElms)\n",
    "if result:\n",
    "    print(\"contains duplicate\")\n",
    "else:\n",
    "    print(\"not containing duplicate\")\n",
    "    "
   ]
  },
  {
   "cell_type": "code",
   "execution_count": 23,
   "metadata": {},
   "outputs": [
    {
     "name": "stdout",
     "output_type": "stream",
     "text": [
      "[3, 9, 12]\n"
     ]
    }
   ],
   "source": [
    "#5. Write a program to identify duplicate values from list\n",
    "# 2nd method\n",
    "lst = [ 3, 6, 9, 12, 3, 30, 15, 9, 45, 36, 12, 12]\n",
    "dupItems = []\n",
    "uniqItems = {}\n",
    "for x in lst:\n",
    "    if x not in uniqItems:\n",
    "        uniqItems[x] = 1\n",
    "    else:\n",
    "        if uniqItems[x] == 1:\n",
    "            dupItems.append(x)\n",
    "            uniqItems[x] += 1\n",
    "print(dupItems)"
   ]
  },
  {
   "cell_type": "code",
   "execution_count": 25,
   "metadata": {},
   "outputs": [
    {
     "name": "stdout",
     "output_type": "stream",
     "text": [
      "Key already exist\n",
      "Key not exist\n"
     ]
    }
   ],
   "source": [
    "#6. Write a Python script to check if a given key already exists in a dictionary \n",
    "\n",
    "d = {1: 10, 2: 20, 3: 30, 4: 40, 5: 50, 6: 60}\n",
    "def  is_key_already_exist(x):\n",
    "        if x in d:\n",
    "            print(\"Key already exist\")\n",
    "        else:\n",
    "            print(\"Key not exist\")\n",
    "is_key_already_exist(5)\n",
    "is_key_already_exist(9)"
   ]
  }
 ],
 "metadata": {
  "kernelspec": {
   "display_name": "Python 3",
   "language": "python",
   "name": "python3"
  },
  "language_info": {
   "codemirror_mode": {
    "name": "ipython",
    "version": 3
   },
   "file_extension": ".py",
   "mimetype": "text/x-python",
   "name": "python",
   "nbconvert_exporter": "python",
   "pygments_lexer": "ipython3",
   "version": "3.7.4"
  }
 },
 "nbformat": 4,
 "nbformat_minor": 2
}
