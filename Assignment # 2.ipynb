{
 "cells": [
  {
   "cell_type": "code",
   "execution_count": 1,
   "metadata": {},
   "outputs": [
    {
     "name": "stdout",
     "output_type": "stream",
     "text": [
      "Enter your Maths marks:90\n",
      "Enter your Computer marks:84\n",
      "Enter your Physics marks:75\n",
      "Enter your Chemistry marks:69\n",
      "Enter your Urdu marks:56\n",
      "You Obtained 374 marks out of 500\n",
      "Your grade is A\n"
     ]
    }
   ],
   "source": [
    "#Write a program which takes 5 inputs from user for different subject’s\n",
    "#marks, total it and generate mark sheet using grades ?\n",
    "\n",
    "\n",
    "Subject1= int(input(\"Enter your Maths marks:\"))\n",
    "Subject2= int(input(\"Enter your Computer marks:\"))\n",
    "Subject3= int(input(\"Enter your Physics marks:\"))\n",
    "Subject4= int(input(\"Enter your Chemistry marks:\"))\n",
    "Subject5= int(input(\"Enter your Urdu marks:\"))\n",
    "Total   = (Subject1+Subject2+Subject3+Subject4+Subject5)\n",
    "print(\"You Obtained\"+\" \"+str(Total)+\" \"+\"marks out of 500\")\n",
    "if (Total >=400 and Total <= 500):\n",
    "    print(\"Your grade is A+\")\n",
    "elif (Total>=300 and Total < 400):\n",
    "    print(\"Your grade is A\")\n",
    "elif (Total>=200 and Total< 300):\n",
    "    print(\"Your grade is B\")\n",
    "elif (Total>=100 and Total < 200):\n",
    "    print(\"Your grade is C\")\n",
    "elif (Total>=50 and Total < 100):\n",
    "    print(\"Your grade is D\")\n",
    "elif (Total>=0 and Total < 50):\n",
    "    print(\"You are Fail\")\n",
    "else:\n",
    "    print(\"Invalid input\")"
   ]
  },
  {
   "cell_type": "code",
   "execution_count": 2,
   "metadata": {},
   "outputs": [
    {
     "name": "stdout",
     "output_type": "stream",
     "text": [
      "Enter the number:250\n",
      "This is Even Number\n"
     ]
    }
   ],
   "source": [
    "#Write a program which take input from user and identify that the given\n",
    "#number is even or odd?\n",
    "\n",
    "Number= int(input(\"Enter the number:\"))\n",
    "Module= Number % 2\n",
    "if ( Module > 0 ):\n",
    "    print(\"This is Odd Number\")\n",
    "else:\n",
    "    print(\"This is Even Number\")"
   ]
  },
  {
   "cell_type": "code",
   "execution_count": 3,
   "metadata": {},
   "outputs": [
    {
     "name": "stdout",
     "output_type": "stream",
     "text": [
      "The List is: ['Usama', 'Ali', 'Adil', 'Moazzam', 25, 78, 789, False]\n",
      "The Length of list is: 8\n"
     ]
    }
   ],
   "source": [
    "#Write a program which print the length of the list?\n",
    "\n",
    "list1= [\"Usama\",\"Ali\",\"Adil\",\"Moazzam\",25,78,789,False]\n",
    "print(\"The List is: \" + str(list1))\n",
    "length_list= len(list1)\n",
    "print(\"The Length of list is:\",length_list)\n"
   ]
  },
  {
   "cell_type": "code",
   "execution_count": 4,
   "metadata": {},
   "outputs": [
    {
     "name": "stdout",
     "output_type": "stream",
     "text": [
      "The sum of Numeric list is: 1517\n"
     ]
    }
   ],
   "source": [
    "#Write a Python program to sum all the numeric items in a list?\n",
    "\n",
    "list2= sum([25,78,789,455,58,89,23])\n",
    "print(\"The sum of Numeric list is:\",list2)"
   ]
  },
  {
   "cell_type": "code",
   "execution_count": 6,
   "metadata": {},
   "outputs": [
    {
     "name": "stdout",
     "output_type": "stream",
     "text": [
      "Enter numbers:3\n",
      "Enter the number:58\n",
      "Enter the number:96\n",
      "Enter the number:256\n",
      "The sum of your list is: 410\n"
     ]
    }
   ],
   "source": [
    "#Write a Python program to sum all the numeric items in a list?\n",
    "List=[]\n",
    "Count_numbers= int(input(\"Enter numbers:\"))\n",
    "for n in range(Count_numbers):\n",
    "    list_number=int(input(\"Enter the number:\"))\n",
    "    List.append(list_number)\n",
    "print(\"The sum of your list is:\",sum(List))"
   ]
  },
  {
   "cell_type": "code",
   "execution_count": 11,
   "metadata": {},
   "outputs": [
    {
     "name": "stdout",
     "output_type": "stream",
     "text": [
      "Enter the numbers:3\n",
      "Enter the number:25\n",
      "Enter the number:789\n",
      "Enter the number:54879\n",
      "The Largest Number in your list is: 54879\n"
     ]
    }
   ],
   "source": [
    "#Write a Python program to get the largest number from a numeric list.\n",
    "List2=[]\n",
    "Count_number2=int (input(\"Enter the numbers:\"))\n",
    "for num in range(Count_number2):\n",
    "    list_number=int(input(\"Enter the number:\"))\n",
    "    List2.append(list_number)\n",
    "print(\"The Largest Number in your list is:\",max(List2))"
   ]
  },
  {
   "cell_type": "code",
   "execution_count": 26,
   "metadata": {},
   "outputs": [
    {
     "name": "stdout",
     "output_type": "stream",
     "text": [
      "1\n",
      "1\n",
      "2\n",
      "3\n"
     ]
    }
   ],
   "source": [
    "#Take a list, say for example this one:\n",
    "#a = [1, 1, 2, 3, 5, 8, 13, 21, 34, 55, 89]\n",
    "#and write a program that prints out all the elements of the list that are\n",
    "#less than 5.\n",
    "\n",
    "\n",
    "a = [1, 1, 2, 3, 5, 8, 13, 21, 34, 55, 89]\n",
    "def Print_numbers_less_than_5():\n",
    "    for i in range(len(a)):\n",
    "        if a[i]< 5:\n",
    "            print(a[i])\n",
    "Print_numbers_less_than_5()"
   ]
  },
  {
   "cell_type": "code",
   "execution_count": 27,
   "metadata": {},
   "outputs": [
    {
     "name": "stdout",
     "output_type": "stream",
     "text": [
      "[1]\n",
      "[1, 1]\n",
      "[1, 1, 2]\n",
      "[1, 1, 2, 3]\n"
     ]
    }
   ],
   "source": [
    "#Take a list, say for example this one:\n",
    "#a = [1, 1, 2, 3, 5, 8, 13, 21, 34, 55, 89]\n",
    "#and write a program that prints out all the elements of the list that are\n",
    "#less than 5.\n",
    "\n",
    "\n",
    "a = [1, 1, 2, 3, 5, 8, 13, 21, 34, 55, 89]\n",
    "new_list= []\n",
    "for item in a:\n",
    "    if item < 5:\n",
    "        new_list.append(item)\n",
    "        print(new_list)"
   ]
  }
 ],
 "metadata": {
  "kernelspec": {
   "display_name": "Python 3",
   "language": "python",
   "name": "python3"
  },
  "language_info": {
   "codemirror_mode": {
    "name": "ipython",
    "version": 3
   },
   "file_extension": ".py",
   "mimetype": "text/x-python",
   "name": "python",
   "nbconvert_exporter": "python",
   "pygments_lexer": "ipython3",
   "version": "3.7.4"
  }
 },
 "nbformat": 4,
 "nbformat_minor": 2
}
