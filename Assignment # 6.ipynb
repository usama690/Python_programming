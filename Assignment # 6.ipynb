{
 "cells": [
  {
   "cell_type": "code",
   "execution_count": 19,
   "metadata": {},
   "outputs": [
    {
     "name": "stdout",
     "output_type": "stream",
     "text": [
      "Corolla gli\n",
      "Black\n",
      "gli\n",
      "Muhammad Usama Nawaz\n",
      "1000\n"
     ]
    }
   ],
   "source": [
    "class car():\n",
    "    def __init__(self,name,color,model,price,owner):\n",
    "        self.name = name\n",
    "        self.color = color\n",
    "        self.model = model\n",
    "        self.price = price\n",
    "        self.owner= owner\n",
    "car1 = car(\"Corolla\",\"Black\",'gli',1000,'Muhammad Usama Nawaz')\n",
    "print(car1.name,car1.model)\n",
    "print(car1.color)\n",
    "print(car1.model)\n",
    "print(car1.owner)\n",
    "print(car1.price)\n",
    "        "
   ]
  },
  {
   "cell_type": "code",
   "execution_count": null,
   "metadata": {},
   "outputs": [],
   "source": []
  }
 ],
 "metadata": {
  "kernelspec": {
   "display_name": "Python 3",
   "language": "python",
   "name": "python3"
  },
  "language_info": {
   "codemirror_mode": {
    "name": "ipython",
    "version": 3
   },
   "file_extension": ".py",
   "mimetype": "text/x-python",
   "name": "python",
   "nbconvert_exporter": "python",
   "pygments_lexer": "ipython3",
   "version": "3.7.4"
  }
 },
 "nbformat": 4,
 "nbformat_minor": 2
}
