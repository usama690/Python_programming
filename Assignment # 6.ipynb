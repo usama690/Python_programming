{
 "cells": [
  {
   "cell_type": "code",
   "execution_count": 20,
   "metadata": {},
   "outputs": [
    {
     "name": "stdout",
     "output_type": "stream",
     "text": [
      "15 kilometers per hour\n",
      "Yes it is electric car\n"
     ]
    },
    {
     "data": {
      "text/plain": [
       "'2.5 Million'"
      ]
     },
     "execution_count": 20,
     "metadata": {},
     "output_type": "execute_result"
    }
   ],
   "source": [
    "class Car():\n",
    "    def __init__(self,name,color,model):\n",
    "        self.name= name\n",
    "        self.color= color\n",
    "        self.model= model\n",
    "    def average(self,kilo):\n",
    "        print('{} kilometers per hour'.format(kilo))\n",
    "    def electric(self):\n",
    "        print('Yes it is electric car')\n",
    "car1= Car('Corolla','white','xli')\n",
    "car1.name\n",
    "car1.model\n",
    "car1.color\n",
    "car1.average(15)\n",
    "car1.electric()\n",
    "car1.owner = 'Muhammad Usama Nawaz'\n",
    "car1.price = '2.5 Million'\n",
    "car1.owner\n",
    "car1.price"
   ]
  }
 ],
 "metadata": {
  "kernelspec": {
   "display_name": "Python 3",
   "language": "python",
   "name": "python3"
  },
  "language_info": {
   "codemirror_mode": {
    "name": "ipython",
    "version": 3
   },
   "file_extension": ".py",
   "mimetype": "text/x-python",
   "name": "python",
   "nbconvert_exporter": "python",
   "pygments_lexer": "ipython3",
   "version": "3.7.4"
  }
 },
 "nbformat": 4,
 "nbformat_minor": 2
}
